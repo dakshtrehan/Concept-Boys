{
 "cells": [
  {
   "cell_type": "code",
   "execution_count": 33,
   "metadata": {},
   "outputs": [],
   "source": [
    "f=open(\"prob.txt\",\"r\")\n",
    "x=(f.readlines())\n",
    "x=x[0:20] #Taking first 10 examples"
   ]
  },
  {
   "cell_type": "code",
   "execution_count": 34,
   "metadata": {},
   "outputs": [],
   "source": [
    "dict1={}\n",
    "for i in range(0,len(x),2):\n",
    "    dict1[x[i]]=x[i+1]        #Converting to dictionary"
   ]
  },
  {
   "cell_type": "code",
   "execution_count": 220,
   "metadata": {},
   "outputs": [],
   "source": [
    "from nltk.corpus import stopwords #Preprocessing\n",
    "from nltk.tokenize import RegexpTokenizer\n",
    "\n",
    "from nltk.stem.porter import PorterStemmer\n",
    "stop=stopwords.words(\"english\")\n",
    "ps = PorterStemmer()\n",
    "tokenizer = RegexpTokenizer(\"\\w+|\\$[\\d\\.]+|\\S+\")"
   ]
  },
  {
   "cell_type": "code",
   "execution_count": 235,
   "metadata": {},
   "outputs": [],
   "source": [
    "def getStemmedReview(review):\n",
    "    review=review.lower()\n",
    "    review = review.replace(\"\\n\",\" \")\n",
    "    \n",
    "    tokens = tokenizer.tokenize(review)\n",
    "    stopwords = [token for token in tokens if token not in stop]\n",
    "    new_token = [ps.stem(tokens) for tokens in stopwords]\n",
    "    \n",
    "    cleaned_review = \" \".join(new_token)\n",
    "    \n",
    "    return cleaned_review\n",
    "    "
   ]
  },
  {
   "cell_type": "code",
   "execution_count": 236,
   "metadata": {},
   "outputs": [],
   "source": [
    "ques=[]\n",
    "for i in x:\n",
    "    a=getStemmedReview(i)\n",
    "    ques.append(a)"
   ]
  },
  {
   "cell_type": "code",
   "execution_count": 244,
   "metadata": {},
   "outputs": [],
   "source": [
    "sol=[]\n",
    "\n",
    "for i in dict1.values():\n",
    "    i = i.replace(\"\\n\",\" \")\n",
    "    sol.append(i)"
   ]
  },
  {
   "cell_type": "code",
   "execution_count": 253,
   "metadata": {},
   "outputs": [],
   "source": [
    "final_dict={}\n",
    "for i in range(10):\n",
    "    final_dict[ques[i]]=sol[i]"
   ]
  },
  {
   "cell_type": "code",
   "execution_count": 254,
   "metadata": {},
   "outputs": [
    {
     "data": {
      "text/plain": [
       "{'prob pick 1 b 1 p two letter pick without replac tpppbbpbbb ?': '4/9 ',\n",
       " 'prob pick 1 p 1 two letter pick without replac {y: 1 , p : 2 , z : 1 , n : 2 }?': '2/15 ',\n",
       " 'four letter pick without replac {y: 6 , b : 1 , u : 4 }. prob pick 2 2 u ?': '3/11 ',\n",
       " 'prob pick 1 u 1 two letter pick without replac {a: 1 , u : 8 , w : 4 , j : 2 }?': '8/105 ',\n",
       " 'calcul prob pick 2 , 1 e , 1 four letter pick without replac siiiisesszzsisisi .': '21/340 ',\n",
       " 'calcul prob pick 1 e 1 b two letter pick without replac {e: 6 , b : 4 , n : 1 }.': '24/55 ',\n",
       " 'four letter pick without replac {p: 1 , e : 18 }. prob pick 2 p 2 e ?': '0 ',\n",
       " 'three letter pick without replac afwawfawwwwa . prob pick 2 f 1 w ?': '3/110 ',\n",
       " 'calcul prob pick 1 p 1 l two letter pick without replac {l: 12 , p : 1 }.': '2/13 ',\n",
       " 'calcul prob pick 1 x 1 two letter pick without replac {d: 2 , : 7 , u : 2 , : 1 , x : 4 }.': '1/30 '}"
      ]
     },
     "execution_count": 254,
     "metadata": {},
     "output_type": "execute_result"
    }
   ],
   "source": [
    "final_dict"
   ]
  },
  {
   "cell_type": "code",
   "execution_count": null,
   "metadata": {},
   "outputs": [],
   "source": []
  }
 ],
 "metadata": {
  "kernelspec": {
   "display_name": "Python 3",
   "language": "python",
   "name": "python3"
  },
  "language_info": {
   "codemirror_mode": {
    "name": "ipython",
    "version": 3
   },
   "file_extension": ".py",
   "mimetype": "text/x-python",
   "name": "python",
   "nbconvert_exporter": "python",
   "pygments_lexer": "ipython3",
   "version": "3.7.3"
  }
 },
 "nbformat": 4,
 "nbformat_minor": 2
}
